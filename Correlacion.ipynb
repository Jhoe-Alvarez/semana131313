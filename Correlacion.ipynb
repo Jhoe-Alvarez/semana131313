{
  "nbformat": 4,
  "nbformat_minor": 0,
  "metadata": {
    "colab": {
      "provenance": []
    },
    "kernelspec": {
      "name": "python3",
      "display_name": "Python 3"
    },
    "language_info": {
      "name": "python"
    }
  },
  "cells": [
    {
      "cell_type": "code",
      "execution_count": 1,
      "metadata": {
        "id": "HD-Aw_t4ztPt"
      },
      "outputs": [],
      "source": [
        "from pyspark.sql import SparkSession\n",
        "from pyspark.sql.functions import col, expr, mean, corr"
      ]
    },
    {
      "cell_type": "code",
      "source": [
        "spark= SparkSession.builder.appName(\"Correlacion\").getOrCreate()"
      ],
      "metadata": {
        "id": "79KDZUMvz9D9"
      },
      "execution_count": 2,
      "outputs": []
    },
    {
      "cell_type": "code",
      "source": [
        "spark"
      ],
      "metadata": {
        "colab": {
          "base_uri": "https://localhost:8080/",
          "height": 219
        },
        "id": "kqSFDk5D0BVE",
        "outputId": "6a446b3e-8bcd-4073-d7aa-e50d8eb24f0e"
      },
      "execution_count": 3,
      "outputs": [
        {
          "output_type": "execute_result",
          "data": {
            "text/plain": [
              "<pyspark.sql.session.SparkSession at 0x7e3ad30ba830>"
            ],
            "text/html": [
              "\n",
              "            <div>\n",
              "                <p><b>SparkSession - in-memory</b></p>\n",
              "                \n",
              "        <div>\n",
              "            <p><b>SparkContext</b></p>\n",
              "\n",
              "            <p><a href=\"http://b6d417044ffe:4040\">Spark UI</a></p>\n",
              "\n",
              "            <dl>\n",
              "              <dt>Version</dt>\n",
              "                <dd><code>v3.5.3</code></dd>\n",
              "              <dt>Master</dt>\n",
              "                <dd><code>local[*]</code></dd>\n",
              "              <dt>AppName</dt>\n",
              "                <dd><code>Correlacion</code></dd>\n",
              "            </dl>\n",
              "        </div>\n",
              "        \n",
              "            </div>\n",
              "        "
            ]
          },
          "metadata": {},
          "execution_count": 3
        }
      ]
    },
    {
      "cell_type": "code",
      "source": [
        "CSV=spark.read.csv(\"/content/excel2.0.csv\", header=True,sep=\";\",inferSchema=True,nullValue=\"NULL\",encoding=\"UTF-8\")"
      ],
      "metadata": {
        "id": "YG66oeV80JgM"
      },
      "execution_count": 4,
      "outputs": []
    },
    {
      "cell_type": "code",
      "source": [
        "CSV.show()"
      ],
      "metadata": {
        "colab": {
          "base_uri": "https://localhost:8080/"
        },
        "id": "ld_ZjOT70M-s",
        "outputId": "89063db5-6fa7-479a-e7ba-24c000e73273"
      },
      "execution_count": 5,
      "outputs": [
        {
          "output_type": "stream",
          "name": "stdout",
          "text": [
            "+---------+---+---+---+---+\n",
            "|  Alumnos| T1| T2| T3| T4|\n",
            "+---------+---+---+---+---+\n",
            "|     Jose| 15| 12| 14| 16|\n",
            "|     Juan| 13| 15| 16| 16|\n",
            "|     Jhoe| 11| 17| 18| 29|\n",
            "|      Jim| 12| 12| 13| 15|\n",
            "|   Anibal| 10| 16| 17| 18|\n",
            "|     Luis| 16| 19| 17| 19|\n",
            "|    Angel| 17| 20| 11|  5|\n",
            "|Valentino| 19|  0| 20| 13|\n",
            "|   Moises| 20| 18| 16| 16|\n",
            "|   Didier| 20| 17| 16| 17|\n",
            "|   Lionel|  8|  9| 20| 20|\n",
            "|Cristiano|  9| 15| 17| 12|\n",
            "|  Raphael| 12| 14| 15| 13|\n",
            "|    yamal| 14| 12| 14| 14|\n",
            "+---------+---+---+---+---+\n",
            "\n"
          ]
        }
      ]
    },
    {
      "cell_type": "code",
      "source": [
        "# la Correlacion nos sirve  para entender como se relacionan las distintas evaluaciones entre si, si se encuentra una correlacion alta y positiva significa que los estudiantes tienden a tener puntuajes consistenteste\n",
        "#entre las evaluaciones."
      ],
      "metadata": {
        "id": "nMC4BOs10Sk0"
      },
      "execution_count": null,
      "outputs": []
    },
    {
      "cell_type": "code",
      "source": [
        "correlacion_t1_t2=CSV.stat.corr(\"T1\", \"T2\")\n",
        "correlacion_t1_t3=CSV.stat.corr(\"T1\", \"T3\")\n",
        "correlacion_t1_t4=CSV.stat.corr(\"T1\", \"T4\")\n",
        "correlacion_t2_t3=CSV.stat.corr(\"T2\", \"T3\")\n",
        "correlacion_t2_t4=CSV.stat.corr(\"T2\", \"T4\")\n",
        "correlacion_t3_t4=CSV.stat.corr(\"T3\", \"T4\")\n",
        "\n",
        "print(f\"correlacion entre t1 y t2: {correlacion_t1_t2}\")\n",
        "print(f\"correlacion entre t1 y t3: {correlacion_t1_t3}\")\n",
        "print(f\"correlacion entre t1 y t4: {correlacion_t1_t4}\")\n",
        "print(f\"correlacion entre t2 y t3: {correlacion_t2_t3}\")\n",
        "print(f\"correlacion entre t2 y t4: {correlacion_t2_t4}\")\n",
        "print(f\"correlacion entre t3 y t4: {correlacion_t3_t4}\")"
      ],
      "metadata": {
        "colab": {
          "base_uri": "https://localhost:8080/"
        },
        "id": "wVt9BLkz068E",
        "outputId": "7dff890f-9c6a-49db-a09a-658a582b9632"
      },
      "execution_count": 6,
      "outputs": [
        {
          "output_type": "stream",
          "name": "stdout",
          "text": [
            "correlacion entre t1 y t2: 0.03431118092128293\n",
            "correlacion entre t1 y t3: -0.20004735409087304\n",
            "correlacion entre t1 y t4: -0.2905289843712556\n",
            "correlacion entre t2 y t3: -0.4713184525204651\n",
            "correlacion entre t2 y t4: 0.054875229850393885\n",
            "correlacion entre t3 y t4: 0.5595775618164003\n"
          ]
        }
      ]
    }
  ]
}