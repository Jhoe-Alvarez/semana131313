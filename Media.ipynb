{
  "nbformat": 4,
  "nbformat_minor": 0,
  "metadata": {
    "colab": {
      "provenance": []
    },
    "kernelspec": {
      "name": "python3",
      "display_name": "Python 3"
    },
    "language_info": {
      "name": "python"
    }
  },
  "cells": [
    {
      "cell_type": "code",
      "execution_count": 2,
      "metadata": {
        "id": "AY2wZ9bvmOG1"
      },
      "outputs": [],
      "source": [
        "from pyspark.sql import SparkSession\n",
        "from pyspark.sql.functions import col, expr, mean, corr"
      ]
    },
    {
      "cell_type": "code",
      "source": [
        "spark= SparkSession.builder.appName(\"Media\").getOrCreate()"
      ],
      "metadata": {
        "id": "yVbuuI9lpDtH"
      },
      "execution_count": 3,
      "outputs": []
    },
    {
      "cell_type": "code",
      "source": [
        "spark\n"
      ],
      "metadata": {
        "colab": {
          "base_uri": "https://localhost:8080/",
          "height": 219
        },
        "id": "ch_wCsQGpeBm",
        "outputId": "ac73f82f-1199-42d1-b438-bf321b600c7f"
      },
      "execution_count": 4,
      "outputs": [
        {
          "output_type": "execute_result",
          "data": {
            "text/plain": [
              "<pyspark.sql.session.SparkSession at 0x7bce8842ee30>"
            ],
            "text/html": [
              "\n",
              "            <div>\n",
              "                <p><b>SparkSession - in-memory</b></p>\n",
              "                \n",
              "        <div>\n",
              "            <p><b>SparkContext</b></p>\n",
              "\n",
              "            <p><a href=\"http://8db24238601d:4040\">Spark UI</a></p>\n",
              "\n",
              "            <dl>\n",
              "              <dt>Version</dt>\n",
              "                <dd><code>v3.5.3</code></dd>\n",
              "              <dt>Master</dt>\n",
              "                <dd><code>local[*]</code></dd>\n",
              "              <dt>AppName</dt>\n",
              "                <dd><code>Media</code></dd>\n",
              "            </dl>\n",
              "        </div>\n",
              "        \n",
              "            </div>\n",
              "        "
            ]
          },
          "metadata": {},
          "execution_count": 4
        }
      ]
    },
    {
      "cell_type": "code",
      "source": [
        "CSV=spark.read.csv(\"/content/excel2.0.csv\", header=True,sep=\";\",inferSchema=True,nullValue=\"NULL\",encoding=\"UTF-8\")"
      ],
      "metadata": {
        "id": "mZ6WMS42pf1d"
      },
      "execution_count": 11,
      "outputs": []
    },
    {
      "cell_type": "code",
      "source": [
        "CSV .show()"
      ],
      "metadata": {
        "colab": {
          "base_uri": "https://localhost:8080/"
        },
        "id": "tb48WKxsp54m",
        "outputId": "e5a6de62-feb2-4f00-bdd0-33968dea39b2"
      },
      "execution_count": 12,
      "outputs": [
        {
          "output_type": "stream",
          "name": "stdout",
          "text": [
            "+---------+---+---+---+---+\n",
            "|  Alumnos| T1| T2| T3| T4|\n",
            "+---------+---+---+---+---+\n",
            "|     Jose| 15| 12| 14| 16|\n",
            "|     Juan| 13| 15| 16| 16|\n",
            "|     Jhoe| 11| 17| 18| 29|\n",
            "|      Jim| 12| 12| 13| 15|\n",
            "|   Anibal| 10| 16| 17| 18|\n",
            "|     Luis| 16| 19| 17| 19|\n",
            "|    Angel| 17| 20| 11|  5|\n",
            "|Valentino| 19|  0| 20| 13|\n",
            "|   Moises| 20| 18| 16| 16|\n",
            "|   Didier| 20| 17| 16| 17|\n",
            "|   Lionel|  8|  9| 20| 20|\n",
            "|Cristiano|  9| 15| 17| 12|\n",
            "|  Raphael| 12| 14| 15| 13|\n",
            "|    yamal| 14| 12| 14| 14|\n",
            "+---------+---+---+---+---+\n",
            "\n"
          ]
        }
      ]
    },
    {
      "cell_type": "code",
      "source": [
        "#Del siguiente documento de datos quiero realizar el promedio de cada alumno, teniendo en cuenta el valor de cada evaluación, en este caso el valor de la t1 es del 10\n",
        "#el valor de la T2 es el 20%, el valor de la T3 es el 30% y el valor de la t4 es el 40%, dado estos valores se realizara el promedio de cada alumno y se colocara si el alumno\n",
        "#esta aprobado a desaprobado(aprobado>=12)."
      ],
      "metadata": {
        "id": "_qpxcS-YrINu"
      },
      "execution_count": null,
      "outputs": []
    },
    {
      "cell_type": "code",
      "source": [
        "t1_peso=0.1\n",
        "t2_peso=0.2\n",
        "t3_peso=0.3\n",
        "t4_peso=0.4"
      ],
      "metadata": {
        "id": "MCbEAEflsnW-"
      },
      "execution_count": 13,
      "outputs": []
    },
    {
      "cell_type": "code",
      "source": [
        "csv_df=CSV.withColumn(\"Promedio\",(col(\"T1\")*t1_peso)+(col(\"T2\")*t2_peso)+(col(\"T3\")*t3_peso)+(col(\"T4\")*t4_peso)).withColumn(\"Estado\",expr(\"CASE WHEN Promedio>=12 THEN 'Aprobado' ELSE 'Desaprobado' END\"))\n",
        "csv_df.select(\"Alumnos\",\"Promedio\",\"Estado\").show()"
      ],
      "metadata": {
        "colab": {
          "base_uri": "https://localhost:8080/"
        },
        "id": "TsslYQbEtFQt",
        "outputId": "612e2144-2dce-49a3-bfd0-1c53353b392d"
      },
      "execution_count": 16,
      "outputs": [
        {
          "output_type": "stream",
          "name": "stdout",
          "text": [
            "+---------+------------------+-----------+\n",
            "|  Alumnos|          Promedio|     Estado|\n",
            "+---------+------------------+-----------+\n",
            "|     Jose|14.500000000000002|   Aprobado|\n",
            "|     Juan|              15.5|   Aprobado|\n",
            "|     Jhoe|              21.5|   Aprobado|\n",
            "|      Jim|              13.5|   Aprobado|\n",
            "|   Anibal|              16.5|   Aprobado|\n",
            "|     Luis|              18.1|   Aprobado|\n",
            "|    Angel|              11.0|Desaprobado|\n",
            "|Valentino|13.100000000000001|   Aprobado|\n",
            "|   Moises|16.799999999999997|   Aprobado|\n",
            "|   Didier|              17.0|   Aprobado|\n",
            "|   Lionel|              16.6|   Aprobado|\n",
            "|Cristiano|              13.8|   Aprobado|\n",
            "|  Raphael|              13.7|   Aprobado|\n",
            "|    yamal|13.600000000000001|   Aprobado|\n",
            "+---------+------------------+-----------+\n",
            "\n"
          ]
        }
      ]
    }
  ]
}