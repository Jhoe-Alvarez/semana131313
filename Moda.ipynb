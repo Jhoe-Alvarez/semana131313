{
  "nbformat": 4,
  "nbformat_minor": 0,
  "metadata": {
    "colab": {
      "provenance": []
    },
    "kernelspec": {
      "name": "python3",
      "display_name": "Python 3"
    },
    "language_info": {
      "name": "python"
    }
  },
  "cells": [
    {
      "cell_type": "code",
      "execution_count": 16,
      "metadata": {
        "id": "kDV53Al9wjas"
      },
      "outputs": [],
      "source": [
        "from pyspark.sql import SparkSession\n",
        "from pyspark.sql.functions import col, expr, mean, corr\n",
        "from pyspark.sql import functions as F"
      ]
    },
    {
      "cell_type": "code",
      "source": [
        "spark= SparkSession.builder.appName(\"Moda\").getOrCreate()"
      ],
      "metadata": {
        "id": "qOVEcRRGwwSt"
      },
      "execution_count": 6,
      "outputs": []
    },
    {
      "cell_type": "code",
      "source": [
        "spark"
      ],
      "metadata": {
        "colab": {
          "base_uri": "https://localhost:8080/",
          "height": 219
        },
        "id": "MoA_sIXdxC68",
        "outputId": "020f7830-8c3d-4d8e-fcc1-986ac13fc9d3"
      },
      "execution_count": 8,
      "outputs": [
        {
          "output_type": "execute_result",
          "data": {
            "text/plain": [
              "<pyspark.sql.session.SparkSession at 0x7dde86db3a90>"
            ],
            "text/html": [
              "\n",
              "            <div>\n",
              "                <p><b>SparkSession - in-memory</b></p>\n",
              "                \n",
              "        <div>\n",
              "            <p><b>SparkContext</b></p>\n",
              "\n",
              "            <p><a href=\"http://6c67c8bdece2:4040\">Spark UI</a></p>\n",
              "\n",
              "            <dl>\n",
              "              <dt>Version</dt>\n",
              "                <dd><code>v3.5.3</code></dd>\n",
              "              <dt>Master</dt>\n",
              "                <dd><code>local[*]</code></dd>\n",
              "              <dt>AppName</dt>\n",
              "                <dd><code>Moda</code></dd>\n",
              "            </dl>\n",
              "        </div>\n",
              "        \n",
              "            </div>\n",
              "        "
            ]
          },
          "metadata": {},
          "execution_count": 8
        }
      ]
    },
    {
      "cell_type": "code",
      "source": [
        "CSV=spark.read.csv(\"/content/excel2.0.csv\", header=True,sep=\";\",inferSchema=True,nullValue=\"NULL\",encoding=\"UTF-8\")"
      ],
      "metadata": {
        "id": "ElLPdfNyw0GF"
      },
      "execution_count": 9,
      "outputs": []
    },
    {
      "cell_type": "code",
      "source": [
        "CSV.show()"
      ],
      "metadata": {
        "colab": {
          "base_uri": "https://localhost:8080/"
        },
        "id": "07kJsXrVxNy9",
        "outputId": "3e499164-9476-40a9-c6c6-036ce330ba11"
      },
      "execution_count": 10,
      "outputs": [
        {
          "output_type": "stream",
          "name": "stdout",
          "text": [
            "+---------+---+---+---+---+\n",
            "|  Alumnos| T1| T2| T3| T4|\n",
            "+---------+---+---+---+---+\n",
            "|     Jose| 15| 12| 14| 16|\n",
            "|     Juan| 13| 15| 16| 16|\n",
            "|     Jhoe| 11| 17| 18| 29|\n",
            "|      Jim| 12| 12| 13| 15|\n",
            "|   Anibal| 10| 16| 17| 18|\n",
            "|     Luis| 16| 19| 17| 19|\n",
            "|    Angel| 17| 20| 11|  5|\n",
            "|Valentino| 19|  0| 20| 13|\n",
            "|   Moises| 20| 18| 16| 16|\n",
            "|   Didier| 20| 17| 16| 17|\n",
            "|   Lionel|  8|  9| 20| 20|\n",
            "|Cristiano|  9| 15| 17| 12|\n",
            "|  Raphael| 12| 14| 15| 13|\n",
            "|    yamal| 14| 12| 14| 14|\n",
            "+---------+---+---+---+---+\n",
            "\n"
          ]
        }
      ]
    },
    {
      "cell_type": "code",
      "source": [
        "#en este caso queremos calcular la moda para obtener una compresion de los valores mas comunes en cada evaluacio. Esto es util por ejemplo para identificar\n",
        "#si ciertos puntuajes se repiten mas frecuentemente, lo cual podria indicar un nivel de rendimiento comun entre los estudiantes"
      ],
      "metadata": {
        "id": "1qhL3GgAxT2d"
      },
      "execution_count": null,
      "outputs": []
    },
    {
      "cell_type": "code",
      "source": [
        "Moda_t1= CSV.groupBy(\"T1\").count().orderBy(F.desc(\"count\")).first()[0]\n",
        "Moda_t2= CSV.groupBy(\"T2\").count().orderBy(F.desc(\"count\")).first()[0]\n",
        "Moda_t3= CSV.groupBy(\"T3\").count().orderBy(F.desc(\"count\")).first()[0]\n",
        "Moda_t4= CSV.groupBy(\"T4\").count().orderBy(F.desc(\"count\")).first()[0]\n",
        "\n",
        "print(f\"moda de T1 :{Moda_t1}\")\n",
        "print(f\"moda de T1 :{Moda_t2}\")\n",
        "print(f\"moda de T1 :{Moda_t3}\")\n",
        "print(f\"moda de T1 :{Moda_t4}\")\n"
      ],
      "metadata": {
        "colab": {
          "base_uri": "https://localhost:8080/"
        },
        "id": "nwYWI_PDxwX1",
        "outputId": "bf65c150-4e46-4aba-db5e-97b26c0445f2"
      },
      "execution_count": 17,
      "outputs": [
        {
          "output_type": "stream",
          "name": "stdout",
          "text": [
            "moda de T1 :12\n",
            "moda de T1 :12\n",
            "moda de T1 :16\n",
            "moda de T1 :16\n"
          ]
        }
      ]
    }
  ]
}