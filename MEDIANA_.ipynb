{
  "nbformat": 4,
  "nbformat_minor": 0,
  "metadata": {
    "colab": {
      "provenance": []
    },
    "kernelspec": {
      "name": "python3",
      "display_name": "Python 3"
    },
    "language_info": {
      "name": "python"
    }
  },
  "cells": [
    {
      "cell_type": "code",
      "execution_count": 1,
      "metadata": {
        "id": "GgGh58d1uqFr"
      },
      "outputs": [],
      "source": [
        "from pyspark.sql import SparkSession\n",
        "from pyspark.sql.functions import col, expr, mean, corr"
      ]
    },
    {
      "cell_type": "code",
      "source": [
        "spark= SparkSession.builder.appName(\"Mediana\").getOrCreate()"
      ],
      "metadata": {
        "id": "gyqN6nnau06i"
      },
      "execution_count": 2,
      "outputs": []
    },
    {
      "cell_type": "code",
      "source": [
        "spark"
      ],
      "metadata": {
        "colab": {
          "base_uri": "https://localhost:8080/",
          "height": 219
        },
        "id": "p93y7QRPu4Ec",
        "outputId": "da9ff604-77ae-46f9-a4fb-ecc108e6637e"
      },
      "execution_count": 3,
      "outputs": [
        {
          "output_type": "execute_result",
          "data": {
            "text/plain": [
              "<pyspark.sql.session.SparkSession at 0x7912540d6c80>"
            ],
            "text/html": [
              "\n",
              "            <div>\n",
              "                <p><b>SparkSession - in-memory</b></p>\n",
              "                \n",
              "        <div>\n",
              "            <p><b>SparkContext</b></p>\n",
              "\n",
              "            <p><a href=\"http://d8aea14180bd:4040\">Spark UI</a></p>\n",
              "\n",
              "            <dl>\n",
              "              <dt>Version</dt>\n",
              "                <dd><code>v3.5.3</code></dd>\n",
              "              <dt>Master</dt>\n",
              "                <dd><code>local[*]</code></dd>\n",
              "              <dt>AppName</dt>\n",
              "                <dd><code>Mediana</code></dd>\n",
              "            </dl>\n",
              "        </div>\n",
              "        \n",
              "            </div>\n",
              "        "
            ]
          },
          "metadata": {},
          "execution_count": 3
        }
      ]
    },
    {
      "cell_type": "code",
      "source": [
        "CSV=spark.read.csv(\"/content/excel2.0.csv\", header=True,sep=\";\",inferSchema=True,nullValue=\"NULL\",encoding=\"UTF-8\")"
      ],
      "metadata": {
        "id": "0GShh7HBu6O0"
      },
      "execution_count": 4,
      "outputs": []
    },
    {
      "cell_type": "code",
      "source": [
        " CSV.show()"
      ],
      "metadata": {
        "colab": {
          "base_uri": "https://localhost:8080/"
        },
        "id": "3GUfzKLUu93U",
        "outputId": "f64f1a04-ee97-461f-8768-c15c1d29a253"
      },
      "execution_count": 5,
      "outputs": [
        {
          "output_type": "stream",
          "name": "stdout",
          "text": [
            "+---------+---+---+---+---+\n",
            "|  Alumnos| T1| T2| T3| T4|\n",
            "+---------+---+---+---+---+\n",
            "|     Jose| 15| 12| 14| 16|\n",
            "|     Juan| 13| 15| 16| 16|\n",
            "|     Jhoe| 11| 17| 18| 29|\n",
            "|      Jim| 12| 12| 13| 15|\n",
            "|   Anibal| 10| 16| 17| 18|\n",
            "|     Luis| 16| 19| 17| 19|\n",
            "|    Angel| 17| 20| 11|  5|\n",
            "|Valentino| 19|  0| 20| 13|\n",
            "|   Moises| 20| 18| 16| 16|\n",
            "|   Didier| 20| 17| 16| 17|\n",
            "|   Lionel|  8|  9| 20| 20|\n",
            "|Cristiano|  9| 15| 17| 12|\n",
            "|  Raphael| 12| 14| 15| 13|\n",
            "|    yamal| 14| 12| 14| 14|\n",
            "+---------+---+---+---+---+\n",
            "\n"
          ]
        }
      ]
    },
    {
      "cell_type": "code",
      "source": [
        "#En este caso deseo saber cual es la mediana de cada evaluación\n"
      ],
      "metadata": {
        "id": "LjnVVP6svFo1"
      },
      "execution_count": null,
      "outputs": []
    },
    {
      "cell_type": "code",
      "source": [
        "mediana_t1=CSV.select(expr(\"percentile_approx(T1,0.5)\").alias(\"Mediana_T1\"))\n",
        "mediana_t2=CSV.select(expr(\"percentile_approx(T2,0.5)\").alias(\"Mediana_T2\"))\n",
        "mediana_t3=CSV.select(expr(\"percentile_approx(T3,0.5)\").alias(\"Mediana_T3\"))\n",
        "mediana_t4=CSV.select(expr(\"percentile_approx(T4,0.5)\").alias(\"Mediana_T4\"))\n",
        "\n",
        "mediana_t1.show()\n",
        "mediana_t2.show()\n",
        "mediana_t3.show()\n",
        "mediana_t4.show()"
      ],
      "metadata": {
        "colab": {
          "base_uri": "https://localhost:8080/"
        },
        "id": "aIlaFzTxvLv9",
        "outputId": "a47c8e0e-920e-4152-8ba8-10acb4d04284"
      },
      "execution_count": 6,
      "outputs": [
        {
          "output_type": "stream",
          "name": "stdout",
          "text": [
            "+----------+\n",
            "|Mediana_T1|\n",
            "+----------+\n",
            "|        13|\n",
            "+----------+\n",
            "\n",
            "+----------+\n",
            "|Mediana_T2|\n",
            "+----------+\n",
            "|        15|\n",
            "+----------+\n",
            "\n",
            "+----------+\n",
            "|Mediana_T3|\n",
            "+----------+\n",
            "|        16|\n",
            "+----------+\n",
            "\n",
            "+----------+\n",
            "|Mediana_T4|\n",
            "+----------+\n",
            "|        16|\n",
            "+----------+\n",
            "\n"
          ]
        }
      ]
    }
  ]
}